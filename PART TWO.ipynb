{
 "cells": [
  {
   "cell_type": "markdown",
   "id": "7e1a8b11",
   "metadata": {},
   "source": [
    "> # PART TWO"
   ]
  },
  {
   "cell_type": "code",
   "execution_count": 1,
   "id": "e7a274c1",
   "metadata": {},
   "outputs": [],
   "source": [
    "import pandas as pd\n",
    "import numpy as np\n",
    "import matplotlib.pyplot as plt\n",
    "import time"
   ]
  },
  {
   "cell_type": "code",
   "execution_count": 2,
   "id": "af0c6d76",
   "metadata": {},
   "outputs": [],
   "source": [
    "### MOST OF FUNCTIONS WERE DESCRIPED In PART ONE ###"
   ]
  },
  {
   "cell_type": "code",
   "execution_count": 3,
   "id": "a06e5f2f",
   "metadata": {},
   "outputs": [],
   "source": [
    "def get_points(data,k):\n",
    "    return data.sample(k)"
   ]
  },
  {
   "cell_type": "code",
   "execution_count": 4,
   "id": "734ff128",
   "metadata": {},
   "outputs": [],
   "source": [
    "#add distance to the dataframe\n",
    "def dist(data,Points):\n",
    "    k = len(Points)\n",
    "    if k == 3:\n",
    "        data['dist1'] = abs(data['col1']-Points.iloc[0][0])+abs(data['col2']-Points.iloc[0][1])\n",
    "        data['dist2'] = abs(data['col1']-Points.iloc[1][0])+abs(data['col2']-Points.iloc[1][1])\n",
    "        data['dist3'] = abs(data['col1']-Points.iloc[2][0])+abs(data['col2']-Points.iloc[2][1])\n",
    "    elif k == 5:\n",
    "        data['dist1'] = abs(data['col1']-Points.iloc[0][0])+abs(data['col2']-Points.iloc[0][1])\n",
    "        data['dist2'] = abs(data['col1']-Points.iloc[1][0])+abs(data['col2']-Points.iloc[1][1])\n",
    "        data['dist3'] = abs(data['col1']-Points.iloc[2][0])+abs(data['col2']-Points.iloc[2][1])\n",
    "        data['dist4'] = abs(data['col1']-Points.iloc[3][0])+abs(data['col2']-Points.iloc[3][1])\n",
    "        data['dist5'] = abs(data['col1']-Points.iloc[4][0])+abs(data['col2']-Points.iloc[4][1])\n",
    "    else:\n",
    "        add_dist(data,Points)"
   ]
  },
  {
   "cell_type": "code",
   "execution_count": 5,
   "id": "f239e6ca",
   "metadata": {},
   "outputs": [],
   "source": [
    "#add distance to the datatframe with k means otherthan 3 or 5\n",
    "def add_dist(data,Points):\n",
    "    k = len(Points)\n",
    "    for i in range(k):\n",
    "        data[f'dist{i+1}'] = abs(data['col1']-Points.iloc[i][0])+abs(data['col2']-Points.iloc[i][1])"
   ]
  },
  {
   "cell_type": "code",
   "execution_count": 6,
   "id": "e23a1b1a",
   "metadata": {},
   "outputs": [],
   "source": [
    "def get_centroid(data):\n",
    "    l = len(data['Old_Cluster'].value_counts().index)\n",
    "    point = []\n",
    "    for i in range(l):\n",
    "        cluster = data['Old_Cluster'].value_counts().index[i]\n",
    "        x = data[data['Old_Cluster'] == cluster].mean()\n",
    "        point.append(x)\n",
    "    point = pd.DataFrame(point)\n",
    "    return point"
   ]
  },
  {
   "cell_type": "code",
   "execution_count": 7,
   "id": "80fdfe3a",
   "metadata": {},
   "outputs": [],
   "source": [
    "def k_means(data,k):\n",
    "    \n",
    "    \n",
    "    start_time = time.time()\n",
    "    Points = get_points(data,k)\n",
    "    dist(data,Points)\n",
    "    distances = data.iloc[:,2:]\n",
    "    data['Old_Cluster'] = distances.apply(lambda x: distances.columns[x.argmin()], axis = 1)\n",
    "    \n",
    "    \n",
    "    Points = get_centroid(data)\n",
    "    dist(data,Points)\n",
    "    distances = data.iloc[:,2:-1] \n",
    "    data['New_Cluster'] = distances.apply(lambda x: distances.columns[x.argmin()], axis = 1)\n",
    "    \n",
    "    \n",
    "    while(True):\n",
    "        if( data['New_Cluster'].equals(data['Old_Cluster']) ):\n",
    "            break\n",
    "        data['Old_Cluster'] = data['New_Cluster']\n",
    "        \n",
    "        Points = get_centroid(data)\n",
    "        dist(data,Points)\n",
    "        distances = data.iloc[:,2:-2] \n",
    "        data['New_Cluster'] = distances.apply(lambda x: distances.columns[x.argmin()], axis = 1)\n",
    "           \n",
    "    return data, Points"
   ]
  },
  {
   "cell_type": "code",
   "execution_count": 8,
   "id": "73049704",
   "metadata": {},
   "outputs": [],
   "source": [
    "def PCA(data):\n",
    "    \n",
    "    num_components = 2\n",
    "    covariance = data.cov()  #calculate the covariance matrix\n",
    "    eigen_values , eigen_vectors = np.linalg.eig(covariance) #getting the egin values and egin vectors\n",
    "    \n",
    "    sorted_index = np.argsort(eigen_values)[::-1]            ##sort the eigenvalues in descending order\n",
    "    sorted_eigenvalue = eigen_values[sorted_index]\n",
    "    \n",
    "    sorted_eigenvectors = eigen_vectors[:,sorted_index]     #similarly sort the eigenvectors\n",
    "    eigenvector_subset = sorted_eigenvectors[:,0:num_components]\n",
    "    # select the first n eigenvectors, n is desired dimension\n",
    "    data = np.dot(eigenvector_subset.transpose() , data.transpose() ).transpose()    #Transform the data \n",
    "    data = pd.DataFrame(data,columns = ['col1','col2'])\n",
    "    return(data)"
   ]
  },
  {
   "cell_type": "code",
   "execution_count": 9,
   "id": "0d46cbe9",
   "metadata": {},
   "outputs": [
    {
     "data": {
      "text/plain": [
       "<matplotlib.collections.PathCollection at 0x25d003d6370>"
      ]
     },
     "execution_count": 9,
     "metadata": {},
     "output_type": "execute_result"
    },
    {
     "data": {
      "image/png": "[encoded data removed]",
      "text/plain": [
       "<Figure size 432x288 with 1 Axes>"
      ]
     },
     "metadata": {
      "needs_background": "light"
     },
     "output_type": "display_data"
    }
   ],
   "source": [
    "df = pd.read_csv('group14.csv',names=['Height','Weight','BMI','Shoulders','Arms'])\n",
    "df = (df - df.mean() )/df.std()\n",
    "df = PCA(df)\n",
    "df , points = k_means(df,3)\n",
    "color = ['blue','orange','red']\n",
    "for i in range(3):\n",
    "    column = f'dist{i+1}'\n",
    "    d = df[df['Old_Cluster' ] == column ]\n",
    "    plt.scatter(data = d, x = 'col1',y = 'col2' , c = color[i] )\n",
    "plt.scatter(data = points , x = 'col1',y = 'col2' , c = 'black')    "
   ]
  },
  {
   "cell_type": "code",
   "execution_count": 12,
   "id": "6de50369",
   "metadata": {},
   "outputs": [
    {
     "name": "stdout",
     "output_type": "stream",
     "text": [
      "26.918% from dist1 cluster\n",
      "21.028% from dist2 cluster\n",
      "19.375% from dist3 cluster\n",
      "16.561% from dist4 cluster\n",
      "16.118% from dist5 cluster\n"
     ]
    },
    {
     "data": {
      "text/plain": [
       "<matplotlib.collections.PathCollection at 0x25d0047a820>"
      ]
     },
     "execution_count": 12,
     "metadata": {},
     "output_type": "execute_result"
    },
    {
     "data": {
      "image/png": "[encoded data removed]",
      "text/plain": [
       "<Figure size 432x288 with 1 Axes>"
      ]
     },
     "metadata": {
      "needs_background": "light"
     },
     "output_type": "display_data"
    }
   ],
   "source": [
    "df = pd.read_csv('group14.csv',names=['Height','Weight','BMI','Shoulders','Arms'])\n",
    "df = (df - df.mean() )/df.std()\n",
    "df = PCA(df)\n",
    "df , points = k_means(df,5)\n",
    "color = ['blue','orange','red','green','yellow']\n",
    "for i in range(5):\n",
    "    column = f'dist{i+1}'\n",
    "    d = df[df['Old_Cluster' ] == column ]\n",
    "    print( f'{(d.shape[0]/100000)*100 }% from {column} cluster')\n",
    "    plt.scatter(data = d, x = 'col1',y = 'col2' , c = color[i] )\n",
    "plt.scatter(data = points , x = 'col1',y = 'col2' , c = 'black')  "
   ]
  },
  {
   "cell_type": "code",
   "execution_count": null,
   "id": "f862debc",
   "metadata": {},
   "outputs": [],
   "source": []
  }
 ],
 "metadata": {
  "kernelspec": {
   "display_name": "Python 3 (ipykernel)",
   "language": "python",
   "name": "python3"
  },
  "language_info": {
   "codemirror_mode": {
    "name": "ipython",
    "version": 3
   },
   "file_extension": ".py",
   "mimetype": "text/x-python",
   "name": "python",
   "nbconvert_exporter": "python",
   "pygments_lexer": "ipython3",
   "version": "3.9.1"
  }
 },
 "nbformat": 4,
 "nbformat_minor": 5
}
