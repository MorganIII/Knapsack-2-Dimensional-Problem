{
 "cells": [
  {
   "cell_type": "markdown",
   "id": "a15e0192",
   "metadata": {},
   "source": [
    "> # PART ONE"
   ]
  },
  {
   "cell_type": "code",
   "execution_count": 1,
   "id": "aaf08cb3",
   "metadata": {},
   "outputs": [],
   "source": [
    "import pandas as pd\n",
    "import numpy as np\n",
    "import matplotlib.pyplot as plt\n",
    "import time\n"
   ]
  },
  {
   "cell_type": "code",
   "execution_count": 2,
   "id": "b60836e1",
   "metadata": {},
   "outputs": [],
   "source": [
    "def get_points(data  ,  k):\n",
    "    #return k-random points of the data dataframe \n",
    "    #these points are the initial centroids\n",
    "    return data.sample(k)"
   ]
  },
  {
   "cell_type": "code",
   "execution_count": 3,
   "id": "dc443344",
   "metadata": {},
   "outputs": [],
   "source": [
    "def dist(data,Points):\n",
    "    k = len(Points)\n",
    "    #calculating the distance between each feature and the point\n",
    "    #for k == 3 we have 3 distances as k is the number of cluster or centroids\n",
    "    #for k == 5 we have 5 distances as k is the number of cluster or centroids\n",
    "    if k == 3:\n",
    "        data['dist1'] = abs(data['Height']-Points.iloc[0][0])+abs(data['Weight']-Points.iloc[0][1])+abs(data['BMI']-Points.iloc[0][2])+abs(data['Shoulders']-Points.iloc[0][3])+abs(data['Arms']-Points.iloc[0][4])\n",
    "        data['dist2'] = abs(data['Height']-Points.iloc[1][0])+abs(data['Weight']-Points.iloc[1][1])+abs(data['BMI']-Points.iloc[1][2])+abs(data['Shoulders']-Points.iloc[1][3])+abs(data['Arms']-Points.iloc[1][4])\n",
    "        data['dist3'] = abs(data['Height']-Points.iloc[2][0])+abs(data['Weight']-Points.iloc[2][1])+abs(data['BMI']-Points.iloc[2][2])+abs(data['Shoulders']-Points.iloc[2][3])+abs(data['Arms']-Points.iloc[2][4])\n",
    "    elif k == 5:\n",
    "        data['dist1'] = abs(data['Height']-Points.iloc[0][0])+abs(data['Weight']-Points.iloc[0][1])+abs(data['BMI']-Points.iloc[0][2])+abs(data['Shoulders']-Points.iloc[0][3])+abs(data['Arms']-Points.iloc[0][4])\n",
    "        data['dist2'] = abs(data['Height']-Points.iloc[1][0])+abs(data['Weight']-Points.iloc[1][1])+abs(data['BMI']-Points.iloc[1][2])+abs(data['Shoulders']-Points.iloc[1][3])+abs(data['Arms']-Points.iloc[1][4])\n",
    "        data['dist3'] = abs(data['Height']-Points.iloc[2][0])+abs(data['Weight']-Points.iloc[2][1])+abs(data['BMI']-Points.iloc[2][2])+abs(data['Shoulders']-Points.iloc[2][3])+abs(data['Arms']-Points.iloc[2][4])\n",
    "        data['dist4'] = abs(data['Height']-Points.iloc[3][0])+abs(data['Weight']-Points.iloc[3][1])+abs(data['BMI']-Points.iloc[3][2])+abs(data['Shoulders']-Points.iloc[3][3])+abs(data['Arms']-Points.iloc[3][4])\n",
    "        data['dist5'] = abs(data['Height']-Points.iloc[4][0])+abs(data['Weight']-Points.iloc[4][1])+abs(data['BMI']-Points.iloc[4][2])+abs(data['Shoulders']-Points.iloc[4][3])+abs(data['Arms']-Points.iloc[4][4])\n",
    "    else:\n",
    "        add_dist(data,Points) #its only used if k != 3 or 5\n",
    "    return data"
   ]
  },
  {
   "cell_type": "code",
   "execution_count": 4,
   "id": "cc837983",
   "metadata": {},
   "outputs": [],
   "source": [
    "def add_dist(data,Points):\n",
    "    #we can only use this function but it will be slower so I have checked first if K==3 or 5 as it is required in the description\n",
    "    k = len(Points)\n",
    "    for i in range(k):\n",
    "        data[f'dist{ i+1 }'] = abs(data['Height']-Points.iloc[i][0])+abs(data['Weight']-Points.iloc[i][1])+abs(data['BMI']-Points.iloc[i][2])+abs(data['Shoulders']-Points.iloc[i][3])+abs(data['Arms']-Points.iloc[i][4])\n",
    "    return data"
   ]
  },
  {
   "cell_type": "code",
   "execution_count": 5,
   "id": "02747a9e",
   "metadata": {},
   "outputs": [],
   "source": [
    "def get_centroid(data):\n",
    "    #this function returns the centroids by geting the mean of each cluster\n",
    "    l = len( data['Old_Cluster'].value_counts().index )\n",
    "    point = []\n",
    "    for i in range(l):\n",
    "        cluster = data['Old_Cluster'].value_counts().index[i]\n",
    "        x = data[data['Old_Cluster'] == cluster].mean()\n",
    "        point.append(x)\n",
    "    point = pd.DataFrame(point)\n",
    "    return point"
   ]
  },
  {
   "cell_type": "code",
   "execution_count": 6,
   "id": "0e855488",
   "metadata": {},
   "outputs": [],
   "source": [
    "def k_means(data,k):\n",
    "    start_time = time.time() #saving the initial time\n",
    "    \n",
    "    Points = get_points(data,k) #getting the initial centroids which are random points\n",
    "    dist(data,Points)           #calculating the distances between each points and centroids and add these distances to the dataframe\n",
    "    distances = data.iloc[:,5:] #getting the a sub-dataframe containing the distances of each points to the centroinds\n",
    "    data['Old_Cluster'] = distances.apply(lambda x: distances.columns[x.argmin()], axis = 1) #check the minimum distances and put the columnd name the a new column in the dataframe called old cluster\n",
    "    \n",
    "    \n",
    "    Points = get_centroid(data) #get the centroids after the first cluster and repeat the previous step but this time we will store the minimum distances in a new colums called the new cluster\n",
    "    dist(data,Points)\n",
    "    distances = data.iloc[:,5:-1] \n",
    "    data['New_Cluster'] = distances.apply(lambda x: distances.columns[x.argmin()], axis = 1)\n",
    "    \n",
    "    \n",
    "    while(True):\n",
    "        if( data['New_Cluster'].equals(data['Old_Cluster']) ): #compare the new cluster to the old cluster\n",
    "            break                                           #if both clusters are equal to every feature so it is the stopping point\n",
    "        data['Old_Cluster'] = data['New_Cluster']      #if they're not equall we put the new cluster in the old cluster and start to get new centroids\n",
    "        \n",
    "        Points = get_centroid(data)                  #getting the centroids and cluster the data until the new cluster == the old cluster\n",
    "        dist(data,Points)\n",
    "        distances = data.iloc[:,5:-2] \n",
    "        data['New_Cluster'] = distances.apply(lambda x: distances.columns[x.argmin()], axis = 1)\n",
    "           \n",
    "    return time.time()-start_time               #return the duration of clutstering"
   ]
  },
  {
   "cell_type": "code",
   "execution_count": 7,
   "id": "15b3bfb2",
   "metadata": {},
   "outputs": [
    {
     "name": "stdout",
     "output_type": "stream",
     "text": [
      "21.252967834472656 seconds\n",
      "61.396849155426025 seconds\n",
      "42.78660535812378 seconds\n",
      "72.29271674156189 seconds\n",
      "96.49304938316345 seconds\n"
     ]
    }
   ],
   "source": [
    "df = pd.read_csv('group14.csv',names=['Height','Weight','BMI','Shoulders','Arms']) #read the file\n",
    "df = (df - df.mean() )/df.std()                   #normalize the data\n",
    "samples = np.arange(20000,100000+1,20000)         #getting samples 20000,40000,60000,80000,100000\n",
    "k = 3                                             #no of clusters\n",
    "r = []                                            #empty array to save the time taken for each sample\n",
    "for i in range( len(samples) ):\n",
    "    m = k_means( df.sample(samples[i]),k)         #calculate the time for each sample\n",
    "    print( m,\"seconds\")                           #print the time taken for each sample\n",
    "    r.append(m)                                   #store the time in the array"
   ]
  },
  {
   "cell_type": "code",
   "execution_count": 8,
   "id": "f374a49d",
   "metadata": {},
   "outputs": [
    {
     "data": {
      "text/plain": [
       "[<matplotlib.lines.Line2D at 0x21956bc35b0>]"
      ]
     },
     "execution_count": 8,
     "metadata": {},
     "output_type": "execute_result"
    },
    {
     "data": {
      "image/png": "[encoded data removed]",
      "text/plain": [
       "<Figure size 432x288 with 1 Axes>"
      ]
     },
     "metadata": {
      "needs_background": "light"
     },
     "output_type": "display_data"
    }
   ],
   "source": [
    "plt.plot(samples,r)"
   ]
  },
  {
   "cell_type": "code",
   "execution_count": 9,
   "id": "0cf8d2ac",
   "metadata": {},
   "outputs": [
    {
     "name": "stdout",
     "output_type": "stream",
     "text": [
      "15.931389093399048 seconds\n",
      "26.09628653526306 seconds\n",
      "77.35223317146301 seconds\n",
      "82.04464626312256 seconds\n",
      "151.45816946029663 seconds\n"
     ]
    }
   ],
   "source": [
    "df = pd.read_csv('group14.csv',names=['Height','Weight','BMI','Shoulders','Arms'])\n",
    "df = (df - df.mean() )/df.std()\n",
    "samples = np.arange(20000,100000+1,20000)\n",
    "k = 5\n",
    "r = []\n",
    "for i in range( len(samples) ):\n",
    "    m = k_means( df.sample(samples[i]),k)\n",
    "    print( m,\"seconds\")\n",
    "    r.append(m)"
   ]
  },
  {
   "cell_type": "code",
   "execution_count": 10,
   "id": "fafae781",
   "metadata": {},
   "outputs": [
    {
     "data": {
      "text/plain": [
       "[<matplotlib.lines.Line2D at 0x21956999dc0>]"
      ]
     },
     "execution_count": 10,
     "metadata": {},
     "output_type": "execute_result"
    },
    {
     "data": {
      "image/png": "[encoded data removed]",
      "text/plain": [
       "<Figure size 432x288 with 1 Axes>"
      ]
     },
     "metadata": {
      "needs_background": "light"
     },
     "output_type": "display_data"
    }
   ],
   "source": [
    "plt.plot(samples,r)"
   ]
  },
  {
   "cell_type": "markdown",
   "id": "eaff9938",
   "metadata": {},
   "source": [
    "> ##### In 3 we are required to calculate the complexity from the code. And as we have nested loops it is o(N^2)"
   ]
  },
  {
   "cell_type": "markdown",
   "id": "6b61af26",
   "metadata": {},
   "source": [
    "> #### From the time taken to samples size (Complexity) for both graphs cluster 3 , 5 are more likely to be linear O(N)\n",
    "> #### It is not O(N^2) because the number as the number of iterations are not large compared to the size of the data set\n",
    "> #### Also we can see ups and downs this is because the randomness of getting the first initial centroids if they are near to the centroids or not, and if we plot more samples it will be more likely to be a linear graph"
   ]
  }
 ],
 "metadata": {
  "kernelspec": {
   "display_name": "Python 3 (ipykernel)",
   "language": "python",
   "name": "python3"
  },
  "language_info": {
   "codemirror_mode": {
    "name": "ipython",
    "version": 3
   },
   "file_extension": ".py",
   "mimetype": "text/x-python",
   "name": "python",
   "nbconvert_exporter": "python",
   "pygments_lexer": "ipython3",
   "version": "3.9.1"
  }
 },
 "nbformat": 4,
 "nbformat_minor": 5
}
